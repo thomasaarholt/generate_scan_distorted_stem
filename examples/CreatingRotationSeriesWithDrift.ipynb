{
 "cells": [
  {
   "cell_type": "markdown",
   "metadata": {},
   "source": [
    "# Creating Rotation Series\n",
    "Here we describe multiple ways to generate a series of scan distorted images."
   ]
  },
  {
   "cell_type": "markdown",
   "metadata": {},
   "source": [
    "###### Loads"
   ]
  },
  {
   "cell_type": "code",
   "execution_count": 1,
   "metadata": {},
   "outputs": [
    {
     "data": {
      "text/html": [
       "\n",
       "<style>\n",
       ".jp-OutputArea-prompt:empty {\n",
       "  padding: 0;\n",
       "  border: 0;\n",
       "}\n",
       "</style>\n"
      ],
      "text/plain": [
       "<IPython.core.display.HTML object>"
      ]
     },
     "metadata": {},
     "output_type": "display_data"
    }
   ],
   "source": [
    "%matplotlib widget\n",
    "\n",
    "# This thing just saves some whitespace from a bug in tqdm / notebook\n",
    "from IPython.display import HTML\n",
    "display(HTML(\"\"\"\n",
    "<style>\n",
    ".jp-OutputArea-prompt:empty {\n",
    "  padding: 0;\n",
    "  border: 0;\n",
    "}\n",
    "</style>\n",
    "\"\"\"))"
   ]
  },
  {
   "cell_type": "code",
   "execution_count": 2,
   "metadata": {},
   "outputs": [],
   "source": [
    "from importlib import reload\n",
    "import numpy as np\n",
    "import matplotlib.pyplot as plt\n",
    "from genSTEM import Model\n",
    "\n",
    "from ase.spacegroup import crystal\n",
    "from ase.build import make_supercell, bulk\n",
    "from ase.visualize.plot import plot_atoms"
   ]
  },
  {
   "cell_type": "markdown",
   "metadata": {},
   "source": [
    "# Build a model"
   ]
  },
  {
   "cell_type": "markdown",
   "metadata": {},
   "source": [
    "Build the structure with ase"
   ]
  },
  {
   "cell_type": "code",
   "execution_count": 3,
   "metadata": {},
   "outputs": [
    {
     "name": "stdout",
     "output_type": "stream",
     "text": [
      "(12, 3)\n"
     ]
    },
    {
     "data": {
      "application/vnd.jupyter.widget-view+json": {
       "model_id": "6d202c33188346ddbee86437c91a9971",
       "version_major": 2,
       "version_minor": 0
      },
      "text/plain": [
       "Canvas(toolbar=Toolbar(toolitems=[('Home', 'Reset original view', 'home', 'home'), ('Back', 'Back to previous …"
      ]
     },
     "metadata": {},
     "output_type": "display_data"
    },
    {
     "data": {
      "text/plain": [
       "<AxesSubplot:>"
      ]
     },
     "execution_count": 3,
     "metadata": {},
     "output_type": "execute_result"
    }
   ],
   "source": [
    "a=4.0\n",
    "atoms = bulk('Al', 'fcc', a=a, cubic=True)\n",
    "atoms = make_supercell(atoms, np.diag([8,8,1]))\n",
    "\n",
    "plateX = atoms.positions[:,0]==a*8/4\n",
    "plateY = atoms.positions[:,1]>=a*8/4\n",
    "\n",
    "plate = plateX&plateY\n",
    "print(atoms.positions[plate].shape)\n",
    "\n",
    "atoms.numbers[plate] = 29\n",
    "\n",
    "fig, ax = plt.subplots()\n",
    "plot_atoms(atoms)"
   ]
  },
  {
   "cell_type": "markdown",
   "metadata": {},
   "source": [
    "# Build the image with genSTEM"
   ]
  },
  {
   "cell_type": "markdown",
   "metadata": {},
   "source": [
    "We can create a series of STEM images with or without defects associated with serial image aquisition."
   ]
  },
  {
   "cell_type": "code",
   "execution_count": 4,
   "metadata": {},
   "outputs": [
    {
     "data": {
      "application/vnd.jupyter.widget-view+json": {
       "model_id": "8980ea190fe94762935ad4513abe9d24",
       "version_major": 2,
       "version_minor": 0
      },
      "text/plain": [
       "  0%|          | 0/4 [00:00<?, ?it/s]"
      ]
     },
     "metadata": {},
     "output_type": "display_data"
    },
    {
     "name": "stdout",
     "output_type": "stream",
     "text": [
      "Size: 0.000739328 GB\n",
      "Shape: (4, 152, 152)\n"
     ]
    },
    {
     "data": {
      "application/vnd.jupyter.widget-view+json": {
       "model_id": "59b07f2b8a9348bfadfae0265afe6630",
       "version_major": 2,
       "version_minor": 0
      },
      "text/plain": [
       "Canvas(toolbar=Toolbar(toolitems=[('Home', 'Reset original view', 'home', 'home'), ('Back', 'Back to previous …"
      ]
     },
     "metadata": {},
     "output_type": "display_data"
    }
   ],
   "source": [
    "images, scanangles, *_ = Model.get_rotation_series(atoms, vacuum=0,\n",
    "                                                   pixel_size=0.2, nImages=4, maxScanAngle=360,\n",
    "                                                   drift_speed=0, drift_angle=0, jitter_strength=0)\n",
    "\n",
    "ncols = 4 if len(images) > 4 else len(images)\n",
    "mult = 12 / ncols\n",
    "nrows = len(images) // ncols if len(images) % ncols == 0 else len(images) // ncols +1\n",
    "rowcols = np.array([nrows, ncols])\n",
    "\n",
    "fig, axs = plt.subplots(*rowcols, figsize=mult*rowcols[::-1])\n",
    "for ax, img, ang in zip(axs.flatten(), images, scanangles):\n",
    "    ax.imshow(img.get(), cmap='jet')\n",
    "    ax.text(0,0, ang, va='top', bbox=dict(facecolor='w', alpha=0.7), clip_on=True)\n",
    "    ax.axis('off')\n",
    "fig.tight_layout(pad=0, w_pad=0.1, h_pad=0.1)"
   ]
  },
  {
   "cell_type": "markdown",
   "metadata": {},
   "source": [
    "We have multiple ways to add drift to an image.  Since we know the drift is acumulated ofver time we can add drift using a pixels index as time."
   ]
  },
  {
   "cell_type": "code",
   "execution_count": 5,
   "metadata": {},
   "outputs": [
    {
     "data": {
      "application/vnd.jupyter.widget-view+json": {
       "model_id": "989eb3b2c8d24fcea9103ed391e9cb30",
       "version_major": 2,
       "version_minor": 0
      },
      "text/plain": [
       "  0%|          | 0/4 [00:00<?, ?it/s]"
      ]
     },
     "metadata": {},
     "output_type": "display_data"
    },
    {
     "name": "stdout",
     "output_type": "stream",
     "text": [
      "Size: 0.000739328 GB\n",
      "Shape: (4, 152, 152)\n"
     ]
    },
    {
     "data": {
      "application/vnd.jupyter.widget-view+json": {
       "model_id": "234d53d8b55e4a0b9ddf80ddfd10632d",
       "version_major": 2,
       "version_minor": 0
      },
      "text/plain": [
       "Canvas(toolbar=Toolbar(toolitems=[('Home', 'Reset original view', 'home', 'home'), ('Back', 'Back to previous …"
      ]
     },
     "metadata": {},
     "output_type": "display_data"
    }
   ],
   "source": [
    "images, scanangles, *_ = Model.get_rotation_series(atoms, vacuum=0,\n",
    "                                                   pixel_size=0.2, nImages=4, maxScanAngle=360,\n",
    "                                                   drift_speed=12, drift_angle=45, jitter_strength=0,\n",
    "                                                   centre_drift=True, periodic_boundary=False,\n",
    "                                                   drift_by_transform=False)\n",
    "\n",
    "ncols = 4 if len(images) > 4 else len(images)\n",
    "mult = 12 / ncols\n",
    "nrows = len(images) // ncols if len(images) % ncols == 0 else len(images) // ncols +1\n",
    "rowcols = np.array([nrows, ncols])\n",
    "\n",
    "fig, axs = plt.subplots(*rowcols, figsize=mult*rowcols[::-1])\n",
    "for ax, img, ang in zip(axs.flatten(), images, scanangles):\n",
    "    ax.imshow(img.get(), cmap='jet')\n",
    "    ax.text(0,0, ang, va='top', bbox=dict(facecolor='w', alpha=0.7), clip_on=True)\n",
    "    ax.axis('off')\n",
    "fig.tight_layout(pad=0, w_pad=0.1, h_pad=0.1)"
   ]
  },
  {
   "cell_type": "markdown",
   "metadata": {},
   "source": [
    "Or, we can add drift using affine transforms."
   ]
  },
  {
   "cell_type": "code",
   "execution_count": 8,
   "metadata": {},
   "outputs": [
    {
     "data": {
      "application/vnd.jupyter.widget-view+json": {
       "model_id": "de3da9fc5e2c445da6423a73fb5d17ce",
       "version_major": 2,
       "version_minor": 0
      },
      "text/plain": [
       "  0%|          | 0/4 [00:00<?, ?it/s]"
      ]
     },
     "metadata": {},
     "output_type": "display_data"
    },
    {
     "name": "stdout",
     "output_type": "stream",
     "text": [
      "Size: 0.000739328 GB\n",
      "Shape: (4, 152, 152)\n"
     ]
    },
    {
     "data": {
      "application/vnd.jupyter.widget-view+json": {
       "model_id": "dfbcb0d156194a02a984b099d5011319",
       "version_major": 2,
       "version_minor": 0
      },
      "text/plain": [
       "Canvas(toolbar=Toolbar(toolitems=[('Home', 'Reset original view', 'home', 'home'), ('Back', 'Back to previous …"
      ]
     },
     "metadata": {},
     "output_type": "display_data"
    }
   ],
   "source": [
    "images, scanangles, *_ = Model.get_rotation_series(atoms, vacuum=0,\n",
    "                                                   pixel_size=0.2, nImages=4, maxScanAngle=360,\n",
    "                                                   drift_speed=12, drift_angle=45, jitter_strength=0,\n",
    "                                                   centre_drift=False, periodic_boundary=False,\n",
    "                                                   drift_by_transform=True, kwargs_affine={'mode':'constant', 'cval':0})\n",
    "\n",
    "ncols = 4 if len(images) > 4 else len(images)\n",
    "mult = 12 / ncols\n",
    "nrows = len(images) // ncols if len(images) % ncols == 0 else len(images) // ncols +1\n",
    "rowcols = np.array([nrows, ncols])\n",
    "\n",
    "fig, axs = plt.subplots(*rowcols, figsize=mult*rowcols[::-1])\n",
    "for ax, img, ang in zip(axs.flatten(), images, scanangles):\n",
    "    ax.imshow(img.get(), cmap='jet')\n",
    "    ax.text(0,0, ang, va='top', bbox=dict(facecolor='w', alpha=0.7), clip_on=True)\n",
    "    ax.axis('off')\n",
    "fig.tight_layout(pad=0, w_pad=0.1, h_pad=0.1)"
   ]
  },
  {
   "cell_type": "markdown",
   "metadata": {},
   "source": [
    "To include periodic boundary conditions by tiling the input atoms cell or wrap around from drift.  The later is much faster but can produce image artifacts from boudnary conditions."
   ]
  },
  {
   "cell_type": "code",
   "execution_count": 9,
   "metadata": {},
   "outputs": [
    {
     "data": {
      "application/vnd.jupyter.widget-view+json": {
       "model_id": "15d4a55600ba4794a5e8a5e9f1111fef",
       "version_major": 2,
       "version_minor": 0
      },
      "text/plain": [
       "  0%|          | 0/4 [00:00<?, ?it/s]"
      ]
     },
     "metadata": {},
     "output_type": "display_data"
    },
    {
     "name": "stdout",
     "output_type": "stream",
     "text": [
      "Size: 0.000739328 GB\n",
      "Shape: (4, 152, 152)\n"
     ]
    },
    {
     "data": {
      "application/vnd.jupyter.widget-view+json": {
       "model_id": "a4caf9d1ee67474b9e65968dc36f05dc",
       "version_major": 2,
       "version_minor": 0
      },
      "text/plain": [
       "Canvas(toolbar=Toolbar(toolitems=[('Home', 'Reset original view', 'home', 'home'), ('Back', 'Back to previous …"
      ]
     },
     "metadata": {},
     "output_type": "display_data"
    }
   ],
   "source": [
    "images, scanangles, *_ = Model.get_rotation_series(atoms, vacuum=0,\n",
    "                                                   pixel_size=0.2, nImages=4, maxScanAngle=360,\n",
    "                                                   drift_speed=12, drift_angle=45, jitter_strength=0,\n",
    "                                                   centre_drift=True, periodic_boundary=True,\n",
    "                                                   drift_by_transform=False)\n",
    "\n",
    "ncols = 4 if len(images) > 4 else len(images)\n",
    "mult = 12 / ncols\n",
    "nrows = len(images) // ncols if len(images) % ncols == 0 else len(images) // ncols +1\n",
    "rowcols = np.array([nrows, ncols])\n",
    "\n",
    "fig, axs = plt.subplots(*rowcols, figsize=mult*rowcols[::-1])\n",
    "for ax, img, ang in zip(axs.flatten(), images, scanangles):\n",
    "    ax.imshow(img.get(), cmap='jet')\n",
    "    ax.text(0,0, ang, va='top', bbox=dict(facecolor='w', alpha=0.7), clip_on=True)\n",
    "    ax.axis('off')\n",
    "fig.tight_layout(pad=0, w_pad=0.1, h_pad=0.1)"
   ]
  },
  {
   "cell_type": "code",
   "execution_count": null,
   "metadata": {},
   "outputs": [],
   "source": []
  }
 ],
 "metadata": {
  "kernelspec": {
   "display_name": "Python 3",
   "language": "python",
   "name": "python3"
  },
  "language_info": {
   "codemirror_mode": {
    "name": "ipython",
    "version": 3
   },
   "file_extension": ".py",
   "mimetype": "text/x-python",
   "name": "python",
   "nbconvert_exporter": "python",
   "pygments_lexer": "ipython3",
   "version": "3.8.6"
  }
 },
 "nbformat": 4,
 "nbformat_minor": 4
}
